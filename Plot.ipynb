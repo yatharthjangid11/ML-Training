{
 "cells": [
  {
   "cell_type": "code",
   "execution_count": 61,
   "metadata": {},
   "outputs": [],
   "source": [
    "import matplotlib.pyplot as plt"
   ]
  },
  {
   "cell_type": "code",
   "execution_count": 62,
   "metadata": {},
   "outputs": [],
   "source": [
    "\n",
    "    # Types of graphs\n",
    "## 1.line = line graph, between two parameters\n",
    "## 2.Bar = bar graphs of simple parameter\n",
    "## 3.hist = Histogram of a bunch of data i.e frequency of single parameter\n",
    "## 4.scater = dot garph between two parameters (STRING AS WELL AS CATAGORICAL DATA)\n",
    "## 5.box plot= statistical overview in formm of box for a single param \n",
    "## mean , outliers , quantiles (25%, 75%), IQR\n",
    "## (optional= catagorical data)\n",
    "## 6.stem= more like bar graph , lines intead of bars\n",
    "## 7.violingplot- Violin shaped staistical overview garph single parameter (optional ccat-data)"
   ]
  },
  {
   "cell_type": "markdown",
   "metadata": {},
   "source": []
  },
  {
   "cell_type": "markdown",
   "metadata": {},
   "source": []
  },
  {
   "cell_type": "markdown",
   "metadata": {},
   "source": []
  },
  {
   "cell_type": "code",
   "execution_count": 63,
   "metadata": {},
   "outputs": [
    {
     "ename": "TypeError",
     "evalue": "bar() missing 1 required positional argument: 'height'",
     "output_type": "error",
     "traceback": [
      "\u001b[1;31m---------------------------------------------------------------------------\u001b[0m",
      "\u001b[1;31mTypeError\u001b[0m                                 Traceback (most recent call last)",
      "\u001b[1;32mc:\\Users\\yashu\\OneDrive\\Desktop\\Python with ML\\Plot.ipynb Cell 6\u001b[0m in \u001b[0;36m<cell line: 5>\u001b[1;34m()\u001b[0m\n\u001b[0;32m      <a href='vscode-notebook-cell:/c%3A/Users/yashu/OneDrive/Desktop/Python%20with%20ML/Plot.ipynb#W4sZmlsZQ%3D%3D?line=2'>3</a>\u001b[0m x1\u001b[39m=\u001b[39mnp\u001b[39m.\u001b[39mlinspace(\u001b[39m1\u001b[39m,\u001b[39m6\u001b[39m,\u001b[39m11\u001b[39m)\n\u001b[0;32m      <a href='vscode-notebook-cell:/c%3A/Users/yashu/OneDrive/Desktop/Python%20with%20ML/Plot.ipynb#W4sZmlsZQ%3D%3D?line=3'>4</a>\u001b[0m \u001b[39m#y=plt.scatter(x,x1)\u001b[39;00m\n\u001b[1;32m----> <a href='vscode-notebook-cell:/c%3A/Users/yashu/OneDrive/Desktop/Python%20with%20ML/Plot.ipynb#W4sZmlsZQ%3D%3D?line=4'>5</a>\u001b[0m z\u001b[39m=\u001b[39mplt\u001b[39m.\u001b[39;49mbar(x)\n\u001b[0;32m      <a href='vscode-notebook-cell:/c%3A/Users/yashu/OneDrive/Desktop/Python%20with%20ML/Plot.ipynb#W4sZmlsZQ%3D%3D?line=5'>6</a>\u001b[0m \u001b[39mprint\u001b[39m(x)\n\u001b[0;32m      <a href='vscode-notebook-cell:/c%3A/Users/yashu/OneDrive/Desktop/Python%20with%20ML/Plot.ipynb#W4sZmlsZQ%3D%3D?line=6'>7</a>\u001b[0m \u001b[39mprint\u001b[39m(x1)\n",
      "\u001b[1;31mTypeError\u001b[0m: bar() missing 1 required positional argument: 'height'"
     ]
    }
   ],
   "source": [
    "import numpy as np\n",
    "x= np.linspace(0,5,11)\n",
    "x1=np.linspace(1,6,11)\n",
    "#y=plt.scatter(x,x1)\n",
    "z=plt.bar(x)\n",
    "print(x)\n",
    "print(x1)\n",
    "print(z)"
   ]
  },
  {
   "cell_type": "markdown",
   "metadata": {},
   "source": []
  },
  {
   "cell_type": "code",
   "execution_count": null,
   "metadata": {},
   "outputs": [],
   "source": [
    "plt.bar(x,y)\n",
    "plt.title('Bar Graphs')\n",
    "plt.show()\n",
    "\n",
    "plt.hist(x,y)\n",
    "plt.title('Histogarm')\n",
    "plt.show()\n",
    "\n",
    "placescatter(x,y)\n",
    "plt.title('Scatter')\n",
    "plt.grid()\n",
    "plt.xlabel('x-->')\n",
    "plt.ylabel('y-->')\n",
    "plt.xticks(x)\n",
    "plt.yticks(range(0,200,10))\n",
    "plt.show()\n",
    "\n",
    "plt.boxplot(x)\n",
    "plt.title('Box PLot')\n",
    "plt.show()\n",
    "\n",
    "\n",
    "plt.stem(x,y)\n",
    "plt.title('Stem')\n",
    "plt.show()\n",
    "\n",
    "plt.violinplot(x,y)\n",
    "plt.title('Violinplot')\n",
    "plt.show() \n"
   ]
  }
 ],
 "metadata": {
  "kernelspec": {
   "display_name": "Python 3.10.2 64-bit",
   "language": "python",
   "name": "python3"
  },
  "language_info": {
   "codemirror_mode": {
    "name": "ipython",
    "version": 3
   },
   "file_extension": ".py",
   "mimetype": "text/x-python",
   "name": "python",
   "nbconvert_exporter": "python",
   "pygments_lexer": "ipython3",
   "version": "3.10.2"
  },
  "orig_nbformat": 4,
  "vscode": {
   "interpreter": {
    "hash": "f367781912fa23f6cf3e062dc39869a29c0fbb1c3d187c1f4fc7c96621df9dcb"
   }
  }
 },
 "nbformat": 4,
 "nbformat_minor": 2
}
